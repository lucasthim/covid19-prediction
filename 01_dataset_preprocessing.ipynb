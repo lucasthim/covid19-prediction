{
 "cells": [
  {
   "cell_type": "markdown",
   "metadata": {},
   "source": [
    "# 01 - Dataset Manual Pre-processing"
   ]
  },
  {
   "cell_type": "code",
   "execution_count": 5,
   "metadata": {},
   "outputs": [],
   "source": [
    "import math\n",
    "import pandas as pd\n",
    "import numpy as np\n",
    "import scipy.stats as sp\n",
    "from joblib import dump, load\n",
    "\n",
    "from utils import dataframe_utils,preprocess_utils"
   ]
  },
  {
   "cell_type": "code",
   "execution_count": 6,
   "metadata": {},
   "outputs": [
    {
     "output_type": "execute_result",
     "data": {
      "text/plain": "           Patient ID  Patient age quantile SARS-Cov-2 exam result  \\\n0     44477f75e8169d2                    13               negative   \n1     126e9dd13932f68                    17               negative   \n2     a46b4402a0e5696                     8               negative   \n3     f7d619a94f97c45                     5               negative   \n4     d9e41465789c2b5                    15               negative   \n...               ...                   ...                    ...   \n5639  ae66feb9e4dc3a0                     3               positive   \n5640  517c2834024f3ea                    17               negative   \n5641  5c57d6037fe266d                     4               negative   \n5642  c20c44766f28291                    10               negative   \n5643  2697fdccbfeb7f7                    19               positive   \n\n      Patient addmited to regular ward (1=yes, 0=no)  \\\n0                                                  0   \n1                                                  0   \n2                                                  0   \n3                                                  0   \n4                                                  0   \n...                                              ...   \n5639                                               0   \n5640                                               0   \n5641                                               0   \n5642                                               0   \n5643                                               0   \n\n      Patient addmited to semi-intensive unit (1=yes, 0=no)  \\\n0                                                     0       \n1                                                     0       \n2                                                     0       \n3                                                     0       \n4                                                     0       \n...                                                 ...       \n5639                                                  0       \n5640                                                  0       \n5641                                                  0       \n5642                                                  0       \n5643                                                  0       \n\n      Patient addmited to intensive care unit (1=yes, 0=no)  Hematocrit  \\\n0                                                     0             NaN   \n1                                                     0        0.236515   \n2                                                     0             NaN   \n3                                                     0             NaN   \n4                                                     0             NaN   \n...                                                 ...             ...   \n5639                                                  0             NaN   \n5640                                                  0             NaN   \n5641                                                  0             NaN   \n5642                                                  0             NaN   \n5643                                                  0        0.694287   \n\n      Hemoglobin  Platelets  Mean platelet volume   ...  \\\n0            NaN        NaN                    NaN  ...   \n1      -0.022340  -0.517413               0.010677  ...   \n2            NaN        NaN                    NaN  ...   \n3            NaN        NaN                    NaN  ...   \n4            NaN        NaN                    NaN  ...   \n...          ...        ...                    ...  ...   \n5639         NaN        NaN                    NaN  ...   \n5640         NaN        NaN                    NaN  ...   \n5641         NaN        NaN                    NaN  ...   \n5642         NaN        NaN                    NaN  ...   \n5643    0.541564  -0.906829              -0.325903  ...   \n\n      Hb saturation (arterial blood gases)  \\\n0                                      NaN   \n1                                      NaN   \n2                                      NaN   \n3                                      NaN   \n4                                      NaN   \n...                                    ...   \n5639                                   NaN   \n5640                                   NaN   \n5641                                   NaN   \n5642                                   NaN   \n5643                                   NaN   \n\n      pCO2 (arterial blood gas analysis)  \\\n0                                    NaN   \n1                                    NaN   \n2                                    NaN   \n3                                    NaN   \n4                                    NaN   \n...                                  ...   \n5639                                 NaN   \n5640                                 NaN   \n5641                                 NaN   \n5642                                 NaN   \n5643                                 NaN   \n\n      Base excess (arterial blood gas analysis)  \\\n0                                           NaN   \n1                                           NaN   \n2                                           NaN   \n3                                           NaN   \n4                                           NaN   \n...                                         ...   \n5639                                        NaN   \n5640                                        NaN   \n5641                                        NaN   \n5642                                        NaN   \n5643                                        NaN   \n\n      pH (arterial blood gas analysis)  \\\n0                                  NaN   \n1                                  NaN   \n2                                  NaN   \n3                                  NaN   \n4                                  NaN   \n...                                ...   \n5639                               NaN   \n5640                               NaN   \n5641                               NaN   \n5642                               NaN   \n5643                               NaN   \n\n      Total CO2 (arterial blood gas analysis)  \\\n0                                         NaN   \n1                                         NaN   \n2                                         NaN   \n3                                         NaN   \n4                                         NaN   \n...                                       ...   \n5639                                      NaN   \n5640                                      NaN   \n5641                                      NaN   \n5642                                      NaN   \n5643                                      NaN   \n\n      HCO3 (arterial blood gas analysis)  pO2 (arterial blood gas analysis)  \\\n0                                    NaN                                NaN   \n1                                    NaN                                NaN   \n2                                    NaN                                NaN   \n3                                    NaN                                NaN   \n4                                    NaN                                NaN   \n...                                  ...                                ...   \n5639                                 NaN                                NaN   \n5640                                 NaN                                NaN   \n5641                                 NaN                                NaN   \n5642                                 NaN                                NaN   \n5643                                 NaN                                NaN   \n\n      Arteiral Fio2  Phosphor  ctO2 (arterial blood gas analysis)  \n0               NaN       NaN                                 NaN  \n1               NaN       NaN                                 NaN  \n2               NaN       NaN                                 NaN  \n3               NaN       NaN                                 NaN  \n4               NaN       NaN                                 NaN  \n...             ...       ...                                 ...  \n5639            NaN       NaN                                 NaN  \n5640            NaN       NaN                                 NaN  \n5641            NaN       NaN                                 NaN  \n5642            NaN       NaN                                 NaN  \n5643            NaN       NaN                                 NaN  \n\n[5644 rows x 111 columns]",
      "text/html": "<div>\n<style scoped>\n    .dataframe tbody tr th:only-of-type {\n        vertical-align: middle;\n    }\n\n    .dataframe tbody tr th {\n        vertical-align: top;\n    }\n\n    .dataframe thead th {\n        text-align: right;\n    }\n</style>\n<table border=\"1\" class=\"dataframe\">\n  <thead>\n    <tr style=\"text-align: right;\">\n      <th></th>\n      <th>Patient ID</th>\n      <th>Patient age quantile</th>\n      <th>SARS-Cov-2 exam result</th>\n      <th>Patient addmited to regular ward (1=yes, 0=no)</th>\n      <th>Patient addmited to semi-intensive unit (1=yes, 0=no)</th>\n      <th>Patient addmited to intensive care unit (1=yes, 0=no)</th>\n      <th>Hematocrit</th>\n      <th>Hemoglobin</th>\n      <th>Platelets</th>\n      <th>Mean platelet volume</th>\n      <th>...</th>\n      <th>Hb saturation (arterial blood gases)</th>\n      <th>pCO2 (arterial blood gas analysis)</th>\n      <th>Base excess (arterial blood gas analysis)</th>\n      <th>pH (arterial blood gas analysis)</th>\n      <th>Total CO2 (arterial blood gas analysis)</th>\n      <th>HCO3 (arterial blood gas analysis)</th>\n      <th>pO2 (arterial blood gas analysis)</th>\n      <th>Arteiral Fio2</th>\n      <th>Phosphor</th>\n      <th>ctO2 (arterial blood gas analysis)</th>\n    </tr>\n  </thead>\n  <tbody>\n    <tr>\n      <th>0</th>\n      <td>44477f75e8169d2</td>\n      <td>13</td>\n      <td>negative</td>\n      <td>0</td>\n      <td>0</td>\n      <td>0</td>\n      <td>NaN</td>\n      <td>NaN</td>\n      <td>NaN</td>\n      <td>NaN</td>\n      <td>...</td>\n      <td>NaN</td>\n      <td>NaN</td>\n      <td>NaN</td>\n      <td>NaN</td>\n      <td>NaN</td>\n      <td>NaN</td>\n      <td>NaN</td>\n      <td>NaN</td>\n      <td>NaN</td>\n      <td>NaN</td>\n    </tr>\n    <tr>\n      <th>1</th>\n      <td>126e9dd13932f68</td>\n      <td>17</td>\n      <td>negative</td>\n      <td>0</td>\n      <td>0</td>\n      <td>0</td>\n      <td>0.236515</td>\n      <td>-0.022340</td>\n      <td>-0.517413</td>\n      <td>0.010677</td>\n      <td>...</td>\n      <td>NaN</td>\n      <td>NaN</td>\n      <td>NaN</td>\n      <td>NaN</td>\n      <td>NaN</td>\n      <td>NaN</td>\n      <td>NaN</td>\n      <td>NaN</td>\n      <td>NaN</td>\n      <td>NaN</td>\n    </tr>\n    <tr>\n      <th>2</th>\n      <td>a46b4402a0e5696</td>\n      <td>8</td>\n      <td>negative</td>\n      <td>0</td>\n      <td>0</td>\n      <td>0</td>\n      <td>NaN</td>\n      <td>NaN</td>\n      <td>NaN</td>\n      <td>NaN</td>\n      <td>...</td>\n      <td>NaN</td>\n      <td>NaN</td>\n      <td>NaN</td>\n      <td>NaN</td>\n      <td>NaN</td>\n      <td>NaN</td>\n      <td>NaN</td>\n      <td>NaN</td>\n      <td>NaN</td>\n      <td>NaN</td>\n    </tr>\n    <tr>\n      <th>3</th>\n      <td>f7d619a94f97c45</td>\n      <td>5</td>\n      <td>negative</td>\n      <td>0</td>\n      <td>0</td>\n      <td>0</td>\n      <td>NaN</td>\n      <td>NaN</td>\n      <td>NaN</td>\n      <td>NaN</td>\n      <td>...</td>\n      <td>NaN</td>\n      <td>NaN</td>\n      <td>NaN</td>\n      <td>NaN</td>\n      <td>NaN</td>\n      <td>NaN</td>\n      <td>NaN</td>\n      <td>NaN</td>\n      <td>NaN</td>\n      <td>NaN</td>\n    </tr>\n    <tr>\n      <th>4</th>\n      <td>d9e41465789c2b5</td>\n      <td>15</td>\n      <td>negative</td>\n      <td>0</td>\n      <td>0</td>\n      <td>0</td>\n      <td>NaN</td>\n      <td>NaN</td>\n      <td>NaN</td>\n      <td>NaN</td>\n      <td>...</td>\n      <td>NaN</td>\n      <td>NaN</td>\n      <td>NaN</td>\n      <td>NaN</td>\n      <td>NaN</td>\n      <td>NaN</td>\n      <td>NaN</td>\n      <td>NaN</td>\n      <td>NaN</td>\n      <td>NaN</td>\n    </tr>\n    <tr>\n      <th>...</th>\n      <td>...</td>\n      <td>...</td>\n      <td>...</td>\n      <td>...</td>\n      <td>...</td>\n      <td>...</td>\n      <td>...</td>\n      <td>...</td>\n      <td>...</td>\n      <td>...</td>\n      <td>...</td>\n      <td>...</td>\n      <td>...</td>\n      <td>...</td>\n      <td>...</td>\n      <td>...</td>\n      <td>...</td>\n      <td>...</td>\n      <td>...</td>\n      <td>...</td>\n      <td>...</td>\n    </tr>\n    <tr>\n      <th>5639</th>\n      <td>ae66feb9e4dc3a0</td>\n      <td>3</td>\n      <td>positive</td>\n      <td>0</td>\n      <td>0</td>\n      <td>0</td>\n      <td>NaN</td>\n      <td>NaN</td>\n      <td>NaN</td>\n      <td>NaN</td>\n      <td>...</td>\n      <td>NaN</td>\n      <td>NaN</td>\n      <td>NaN</td>\n      <td>NaN</td>\n      <td>NaN</td>\n      <td>NaN</td>\n      <td>NaN</td>\n      <td>NaN</td>\n      <td>NaN</td>\n      <td>NaN</td>\n    </tr>\n    <tr>\n      <th>5640</th>\n      <td>517c2834024f3ea</td>\n      <td>17</td>\n      <td>negative</td>\n      <td>0</td>\n      <td>0</td>\n      <td>0</td>\n      <td>NaN</td>\n      <td>NaN</td>\n      <td>NaN</td>\n      <td>NaN</td>\n      <td>...</td>\n      <td>NaN</td>\n      <td>NaN</td>\n      <td>NaN</td>\n      <td>NaN</td>\n      <td>NaN</td>\n      <td>NaN</td>\n      <td>NaN</td>\n      <td>NaN</td>\n      <td>NaN</td>\n      <td>NaN</td>\n    </tr>\n    <tr>\n      <th>5641</th>\n      <td>5c57d6037fe266d</td>\n      <td>4</td>\n      <td>negative</td>\n      <td>0</td>\n      <td>0</td>\n      <td>0</td>\n      <td>NaN</td>\n      <td>NaN</td>\n      <td>NaN</td>\n      <td>NaN</td>\n      <td>...</td>\n      <td>NaN</td>\n      <td>NaN</td>\n      <td>NaN</td>\n      <td>NaN</td>\n      <td>NaN</td>\n      <td>NaN</td>\n      <td>NaN</td>\n      <td>NaN</td>\n      <td>NaN</td>\n      <td>NaN</td>\n    </tr>\n    <tr>\n      <th>5642</th>\n      <td>c20c44766f28291</td>\n      <td>10</td>\n      <td>negative</td>\n      <td>0</td>\n      <td>0</td>\n      <td>0</td>\n      <td>NaN</td>\n      <td>NaN</td>\n      <td>NaN</td>\n      <td>NaN</td>\n      <td>...</td>\n      <td>NaN</td>\n      <td>NaN</td>\n      <td>NaN</td>\n      <td>NaN</td>\n      <td>NaN</td>\n      <td>NaN</td>\n      <td>NaN</td>\n      <td>NaN</td>\n      <td>NaN</td>\n      <td>NaN</td>\n    </tr>\n    <tr>\n      <th>5643</th>\n      <td>2697fdccbfeb7f7</td>\n      <td>19</td>\n      <td>positive</td>\n      <td>0</td>\n      <td>0</td>\n      <td>0</td>\n      <td>0.694287</td>\n      <td>0.541564</td>\n      <td>-0.906829</td>\n      <td>-0.325903</td>\n      <td>...</td>\n      <td>NaN</td>\n      <td>NaN</td>\n      <td>NaN</td>\n      <td>NaN</td>\n      <td>NaN</td>\n      <td>NaN</td>\n      <td>NaN</td>\n      <td>NaN</td>\n      <td>NaN</td>\n      <td>NaN</td>\n    </tr>\n  </tbody>\n</table>\n<p>5644 rows × 111 columns</p>\n</div>"
     },
     "metadata": {},
     "execution_count": 6
    }
   ],
   "source": [
    "df_covid = pd.read_excel('datasets/dataset.xlsx')\n",
    "df_covid"
   ]
  },
  {
   "cell_type": "code",
   "execution_count": 7,
   "metadata": {},
   "outputs": [],
   "source": [
    "df_covid.drop([\n",
    "    'Patient ID',\n",
    "    'Patient addmited to intensive care unit (1=yes, 0=no)',\n",
    "    'Patient addmited to semi-intensive unit (1=yes, 0=no)',\n",
    "    'Patient addmited to regular ward (1=yes, 0=no)'],axis = 1,inplace = True)"
   ]
  },
  {
   "cell_type": "markdown",
   "metadata": {},
   "source": [
    "### Checking for missing values"
   ]
  },
  {
   "cell_type": "code",
   "execution_count": 8,
   "metadata": {},
   "outputs": [
    {
     "output_type": "display_data",
     "data": {
      "text/plain": "Patient age quantile                                5644\nSARS-Cov-2 exam result                              5644\nHematocrit                                           603\nHemoglobin                                           603\nPlatelets                                            602\nMean platelet volume                                 599\nRed blood Cells                                      602\nLymphocytes                                          602\nMean corpuscular hemoglobin concentration (MCHC)     602\nLeukocytes                                           602\nBasophils                                            602\nMean corpuscular hemoglobin (MCH)                    602\nEosinophils                                          602\nMean corpuscular volume (MCV)                        602\nMonocytes                                            601\nRed blood cell distribution width (RDW)              602\nSerum Glucose                                        208\nRespiratory Syncytial Virus                         1354\nInfluenza A                                         1354\nInfluenza B                                         1354\nParainfluenza 1                                     1352\nCoronavirusNL63                                     1352\nRhinovirus/Enterovirus                              1352\nMycoplasma pneumoniae                                  0\nCoronavirus HKU1                                    1352\nParainfluenza 3                                     1352\nChlamydophila pneumoniae                            1352\nAdenovirus                                          1352\nParainfluenza 4                                     1352\nCoronavirus229E                                     1352\nCoronavirusOC43                                     1352\nInf A H1N1 2009                                     1352\nBordetella pertussis                                1352\nMetapneumovirus                                     1352\nParainfluenza 2                                     1352\nNeutrophils                                          513\nUrea                                                 397\nProteina C reativa mg/dL                             506\nCreatinine                                           424\nPotassium                                            371\nSodium                                               370\nInfluenza B, rapid test                              820\nInfluenza A, rapid test                              820\nAlanine transaminase                                 225\nAspartate transaminase                               226\nGamma-glutamyltransferase                            153\nTotal Bilirubin                                      182\nDirect Bilirubin                                     182\nIndirect Bilirubin                                   182\nAlkaline phosphatase                                 144\nIonized calcium                                       50\nStrepto A                                            332\nMagnesium                                             40\npCO2 (venous blood gas analysis)                     136\nHb saturation (venous blood gas analysis)            136\nBase excess (venous blood gas analysis)              136\ndtype: int64"
     },
     "metadata": {}
    },
    {
     "output_type": "display_data",
     "data": {
      "text/plain": "pO2 (venous blood gas analysis)              136\nFio2 (venous blood gas analysis)               1\nTotal CO2 (venous blood gas analysis)        136\npH (venous blood gas analysis)               136\nHCO3 (venous blood gas analysis)             136\nRods #                                        97\nSegmented                                     97\nPromyelocytes                                 97\nMetamyelocytes                                97\nMyelocytes                                    97\nMyeloblasts                                   97\nUrine - Esterase                              60\nUrine - Aspect                                70\nUrine - pH                                    70\nUrine - Hemoglobin                            70\nUrine - Bile pigments                         70\nUrine - Ketone Bodies                         57\nUrine - Nitrite                                1\nUrine - Density                               70\nUrine - Urobilinogen                          69\nUrine - Protein                               60\nUrine - Sugar                                  0\nUrine - Leukocytes                            70\nUrine - Crystals                              70\nUrine - Red blood cells                       70\nUrine - Hyaline cylinders                     67\nUrine - Granular cylinders                    69\nUrine - Yeasts                                70\nUrine - Color                                 70\nPartial thromboplastin time (PTT)              0\nRelationship (Patient/Normal)                 91\nInternational normalized ratio (INR)         133\nLactic Dehydrogenase                         101\nProthrombin time (PT), Activity                0\nVitamin B12                                    3\nCreatine phosphokinase (CPK)                 104\nFerritin                                      23\nArterial Lactic Acid                          27\nLipase dosage                                  8\nD-Dimer                                        0\nAlbumin                                       13\nHb saturation (arterial blood gases)          27\npCO2 (arterial blood gas analysis)            27\nBase excess (arterial blood gas analysis)     27\npH (arterial blood gas analysis)              27\nTotal CO2 (arterial blood gas analysis)       27\nHCO3 (arterial blood gas analysis)            27\npO2 (arterial blood gas analysis)             27\nArteiral Fio2                                 20\nPhosphor                                      20\nctO2 (arterial blood gas analysis)            27\ndtype: int64"
     },
     "metadata": {}
    }
   ],
   "source": [
    "df_counts = df_covid.count()\n",
    "display(df_counts.head(56))\n",
    "display(df_counts.tail(51))"
   ]
  },
  {
   "cell_type": "code",
   "execution_count": 15,
   "metadata": {},
   "outputs": [],
   "source": [
    "def drop_by_data_threshold(df,threshold,axis):\n",
    "    print(f'threshold (%) = {threshold * 100}')\n",
    "    if axis == 'row': axis = 1\n",
    "    elif axis == 'col' or axis == 'column': axis = 0\n",
    "\n",
    "    max_values = df.shape[axis]\n",
    "    value_threshold = int(threshold * max_values)\n",
    "    mask_values_to_keep = df.count(axis = axis) >= value_threshold\n",
    "    print('threshold (data points) =',value_threshold)\n",
    "    if axis == 1: return df[mask_values_to_keep]\n",
    "    elif axis == 0: return df.loc[:,mask_values_to_keep.values]"
   ]
  },
  {
   "cell_type": "markdown",
   "metadata": {},
   "source": [
    "### Drop columns with less than 10% available data"
   ]
  },
  {
   "cell_type": "code",
   "execution_count": 17,
   "metadata": {},
   "outputs": [
    {
     "output_type": "stream",
     "name": "stdout",
     "text": "threshold (%) = 10.0\nthreshold (data points) = 564\n"
    }
   ],
   "source": [
    "df_covid_subset_1 = drop_by_data_threshold(df_covid,threshold = 0.1, axis = 'column')"
   ]
  },
  {
   "cell_type": "markdown",
   "metadata": {},
   "source": [
    "### Drop rows with less than 90% of available features"
   ]
  },
  {
   "cell_type": "code",
   "execution_count": 20,
   "metadata": {},
   "outputs": [
    {
     "output_type": "stream",
     "name": "stdout",
     "text": "threshold (%) = 90.0\nthreshold (data points) = 31\n"
    },
    {
     "output_type": "execute_result",
     "data": {
      "text/plain": "Patient age quantile                                366\nSARS-Cov-2 exam result                              366\nHematocrit                                          366\nHemoglobin                                          366\nPlatelets                                           366\nMean platelet volume                                363\nRed blood Cells                                     366\nLymphocytes                                         366\nMean corpuscular hemoglobin concentration (MCHC)    366\nLeukocytes                                          366\nBasophils                                           366\nMean corpuscular hemoglobin (MCH)                   366\nEosinophils                                         366\nMean corpuscular volume (MCV)                       366\nMonocytes                                           365\nRed blood cell distribution width (RDW)             366\nRespiratory Syncytial Virus                         366\nInfluenza A                                         366\nInfluenza B                                         366\nParainfluenza 1                                     366\nCoronavirusNL63                                     366\nRhinovirus/Enterovirus                              366\nCoronavirus HKU1                                    366\nParainfluenza 3                                     366\nChlamydophila pneumoniae                            366\nAdenovirus                                          366\nParainfluenza 4                                     366\nCoronavirus229E                                     366\nCoronavirusOC43                                     366\nInf A H1N1 2009                                     366\nBordetella pertussis                                366\nMetapneumovirus                                     366\nParainfluenza 2                                     366\nInfluenza B, rapid test                              99\nInfluenza A, rapid test                              99\ndtype: int64"
     },
     "metadata": {},
     "execution_count": 20
    }
   ],
   "source": [
    "df_covid_subset_2 = drop_by_data_threshold(df_covid_subset_1,threshold = 0.9, axis = 'row')\n",
    "df_covid_subset_2.count()"
   ]
  },
  {
   "cell_type": "markdown",
   "metadata": {},
   "source": [
    "### Drop columns with less than 80% available data"
   ]
  },
  {
   "cell_type": "code",
   "execution_count": 19,
   "metadata": {},
   "outputs": [
    {
     "output_type": "stream",
     "name": "stdout",
     "text": "threshold (%) = 80.0\nthreshold (data points) = 292\n"
    },
    {
     "output_type": "execute_result",
     "data": {
      "text/plain": "Patient age quantile                                366\nSARS-Cov-2 exam result                              366\nHematocrit                                          366\nHemoglobin                                          366\nPlatelets                                           366\nMean platelet volume                                363\nRed blood Cells                                     366\nLymphocytes                                         366\nMean corpuscular hemoglobin concentration (MCHC)    366\nLeukocytes                                          366\nBasophils                                           366\nMean corpuscular hemoglobin (MCH)                   366\nEosinophils                                         366\nMean corpuscular volume (MCV)                       366\nMonocytes                                           365\nRed blood cell distribution width (RDW)             366\nRespiratory Syncytial Virus                         366\nInfluenza A                                         366\nInfluenza B                                         366\nParainfluenza 1                                     366\nCoronavirusNL63                                     366\nRhinovirus/Enterovirus                              366\nCoronavirus HKU1                                    366\nParainfluenza 3                                     366\nChlamydophila pneumoniae                            366\nAdenovirus                                          366\nParainfluenza 4                                     366\nCoronavirus229E                                     366\nCoronavirusOC43                                     366\nInf A H1N1 2009                                     366\nBordetella pertussis                                366\nMetapneumovirus                                     366\nParainfluenza 2                                     366\ndtype: int64"
     },
     "metadata": {},
     "execution_count": 19
    }
   ],
   "source": [
    "df_covid_subset_3 = drop_by_data_threshold(df_covid_subset_2,threshold = 0.8, axis = 'column')\n",
    "df_covid_subset_3.count()"
   ]
  },
  {
   "cell_type": "markdown",
   "metadata": {},
   "source": [
    "### Drop NAs"
   ]
  },
  {
   "cell_type": "code",
   "execution_count": 33,
   "metadata": {},
   "outputs": [
    {
     "output_type": "execute_result",
     "data": {
      "text/plain": "Patient age quantile                                362\nSARS-Cov-2 exam result                              362\nHematocrit                                          362\nHemoglobin                                          362\nPlatelets                                           362\nMean platelet volume                                362\nRed blood Cells                                     362\nLymphocytes                                         362\nMean corpuscular hemoglobin concentration (MCHC)    362\nLeukocytes                                          362\nBasophils                                           362\nMean corpuscular hemoglobin (MCH)                   362\nEosinophils                                         362\nMean corpuscular volume (MCV)                       362\nMonocytes                                           362\nRed blood cell distribution width (RDW)             362\nRespiratory Syncytial Virus                         362\nInfluenza A                                         362\nInfluenza B                                         362\nParainfluenza 1                                     362\nCoronavirusNL63                                     362\nRhinovirus/Enterovirus                              362\nCoronavirus HKU1                                    362\nParainfluenza 3                                     362\nChlamydophila pneumoniae                            362\nAdenovirus                                          362\nParainfluenza 4                                     362\nCoronavirus229E                                     362\nCoronavirusOC43                                     362\nInf A H1N1 2009                                     362\nBordetella pertussis                                362\nMetapneumovirus                                     362\nParainfluenza 2                                     362\ndtype: int64"
     },
     "metadata": {},
     "execution_count": 33
    }
   ],
   "source": [
    "df_covid_clean = df_covid_subset_3.dropna()\n",
    "df_covid_clean.count()"
   ]
  },
  {
   "cell_type": "code",
   "execution_count": 34,
   "metadata": {},
   "outputs": [
    {
     "output_type": "execute_result",
     "data": {
      "text/plain": "(362, 33)"
     },
     "metadata": {},
     "execution_count": 34
    }
   ],
   "source": [
    "df_covid_clean.shape"
   ]
  },
  {
   "cell_type": "markdown",
   "metadata": {},
   "source": [
    "This heuristic aimed to keep the highest number of features without losing much data points"
   ]
  },
  {
   "cell_type": "markdown",
   "metadata": {},
   "source": [
    "### Visualizing categorical data values"
   ]
  },
  {
   "cell_type": "code",
   "execution_count": 64,
   "metadata": {},
   "outputs": [],
   "source": [
    "def get_categorical_features(df,sort = True):\n",
    "    categorical_columns = df.dtypes[df.dtypes == object].index\n",
    "    if sort: return np.sort(categorical_columns)\n",
    "    return categorical_columns"
   ]
  },
  {
   "cell_type": "code",
   "execution_count": 65,
   "metadata": {},
   "outputs": [
    {
     "output_type": "stream",
     "name": "stdout",
     "text": "Column Values:\nAdenovirus : ['not_detected' 'detected']\nBordetella pertussis : ['not_detected']\nChlamydophila pneumoniae : ['not_detected']\nCoronavirus HKU1 : ['not_detected' 'detected']\nCoronavirus229E : ['not_detected' 'detected']\nCoronavirusNL63 : ['not_detected' 'detected']\nCoronavirusOC43 : ['not_detected' 'detected']\nInf A H1N1 2009 : ['not_detected' 'detected']\nInfluenza A : ['not_detected' 'detected']\nInfluenza B : ['not_detected' 'detected']\nMetapneumovirus : ['not_detected' 'detected']\nParainfluenza 1 : ['not_detected']\nParainfluenza 2 : ['not_detected']\nParainfluenza 3 : ['not_detected' 'detected']\nParainfluenza 4 : ['not_detected' 'detected']\nRespiratory Syncytial Virus : ['not_detected' 'detected']\nRhinovirus/Enterovirus : ['detected' 'not_detected']\nSARS-Cov-2 exam result : ['negative' 'positive']\n"
    }
   ],
   "source": [
    "categorical_columns = get_categorical_features(df_covid_clean)\n",
    "unique_values = dataframe_utils.get_column_categories(df_covid_clean[categorical_columns])"
   ]
  },
  {
   "cell_type": "markdown",
   "metadata": {},
   "source": [
    "### Dropping irrelevant columns (with only one value)"
   ]
  },
  {
   "cell_type": "code",
   "execution_count": 66,
   "metadata": {},
   "outputs": [
    {
     "output_type": "stream",
     "name": "stdout",
     "text": "irrelevant_columns:  ['Bordetella pertussis', 'Chlamydophila pneumoniae', 'Parainfluenza 1', 'Parainfluenza 2']\n"
    }
   ],
   "source": [
    "irrelevant_columns = []\n",
    "for key in unique_values.keys():\n",
    "    if unique_values[key].shape[0] <= 1:\n",
    "        irrelevant_columns.append(key)\n",
    "print('irrelevant_columns: ',irrelevant_columns)\n",
    "df_covid_final_cut = df_covid_clean.drop(columns = irrelevant_columns)"
   ]
  },
  {
   "cell_type": "code",
   "execution_count": 69,
   "metadata": {},
   "outputs": [
    {
     "output_type": "stream",
     "name": "stdout",
     "text": "Column Values:\nAdenovirus : ['not_detected' 'detected']\nCoronavirus HKU1 : ['not_detected' 'detected']\nCoronavirus229E : ['not_detected' 'detected']\nCoronavirusNL63 : ['not_detected' 'detected']\nCoronavirusOC43 : ['not_detected' 'detected']\nInf A H1N1 2009 : ['not_detected' 'detected']\nInfluenza A : ['not_detected' 'detected']\nInfluenza B : ['not_detected' 'detected']\nMetapneumovirus : ['not_detected' 'detected']\nParainfluenza 3 : ['not_detected' 'detected']\nParainfluenza 4 : ['not_detected' 'detected']\nRespiratory Syncytial Virus : ['not_detected' 'detected']\nRhinovirus/Enterovirus : ['detected' 'not_detected']\nSARS-Cov-2 exam result : ['negative' 'positive']\n"
    }
   ],
   "source": [
    "categorical_columns = get_categorical_features(df_covid_final_cut)\n",
    "numeric_columns = np.setdiff1d(df_covid_final_cut.columns,categorical_columns)\n",
    "unique_values = dataframe_utils.get_column_categories(df_covid_final_cut[categorical_columns])"
   ]
  },
  {
   "cell_type": "markdown",
   "metadata": {},
   "source": [
    "### Encode categorical features"
   ]
  },
  {
   "cell_type": "code",
   "execution_count": 70,
   "metadata": {},
   "outputs": [],
   "source": [
    "for col in unique_values.keys():\n",
    "    df_covid_final_cut.loc[df_covid_final_cut[col] == 'detected',col] = 1\n",
    "    df_covid_final_cut.loc[df_covid_final_cut[col] == 'not_detected',col] = 0\n",
    "\n",
    "df_covid_final_cut.loc[df_covid_final_cut[class_label] == 'positive',class_label] = 1\n",
    "df_covid_final_cut.loc[df_covid_final_cut[class_label] == 'negative',class_label] = 0\n",
    "\n",
    "for col in df_covid_final_cut.columns:\n",
    "    if df_covid_final_cut[col].dtypes == np.float:\n",
    "        continue\n",
    "    df_covid_final_cut[col] = df_covid_final_cut[col].astype(int)"
   ]
  },
  {
   "cell_type": "code",
   "execution_count": 71,
   "metadata": {},
   "outputs": [],
   "source": [
    "df_covid_final_cut.to_csv('datasets/dataset_preprocessed.csv',index = False)"
   ]
  }
 ],
 "metadata": {
  "file_extension": ".py",
  "kernelspec": {
   "display_name": "Python 3.7.7 64-bit ('default': venv)",
   "language": "python",
   "name": "python37764bitdefaultvenv42fbb5f68c3a497e94ae30fe23e8bc4c"
  },
  "language_info": {
   "codemirror_mode": {
    "name": "ipython",
    "version": 3
   },
   "file_extension": ".py",
   "mimetype": "text/x-python",
   "name": "python",
   "nbconvert_exporter": "python",
   "pygments_lexer": "ipython3",
   "version": "3.7.7-final"
  },
  "mimetype": "text/x-python",
  "name": "python",
  "npconvert_exporter": "python",
  "pygments_lexer": "ipython3",
  "version": 3
 },
 "nbformat": 4,
 "nbformat_minor": 4
}